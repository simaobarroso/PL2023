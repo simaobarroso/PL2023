{
  "cells": [
    {
      "cell_type": "markdown",
      "metadata": {
        "id": "6nFoODdAH7Ha"
      },
      "source": [
        "# TPC2: Somador on/off\n",
        "\n",
        "Crie um programa em Python que tenha o seguinte comportamento:\n",
        "\n",
        "  * Pretende-se um programa que some todas as sequências de dígitos que encontre num texto;\n",
        "  * Prepare o programa para ler o texto do canal de entrada: stdin;\n",
        "  * Sempre que encontrar a string “Off” em qualquer combinação de maiúsculas e minúsculas, esse comportamento é desligado;\n",
        "  * Sempre que encontrar a string “On” em qualquer combinação de maiúsculas e minúsculas, esse comportamento é novamente ligado;\n",
        "  * Sempre que encontrar o caráter “=”, o resultado da soma é colocado na saída.\n"
      ]
    }
  ],
  "metadata": {
    "colab": {
      "provenance": []
    },
    "kernelspec": {
      "display_name": "Python 3",
      "name": "python3"
    },
    "language_info": {
      "name": "python"
    }
  },
  "nbformat": 4,
  "nbformat_minor": 0
}
