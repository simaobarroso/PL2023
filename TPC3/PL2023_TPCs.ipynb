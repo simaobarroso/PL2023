{
  "cells": [
    {
      "cell_type": "markdown",
      "metadata": {
        "id": "E3nUK-2PqERR"
      },
      "source": [
        "#Enunciados dos Trabalhos para Casa (TPC)\n",
        "da UC de **Processamento de Linguagens**,\n",
        "ano Letivo 2022/23 , 3º ano de LEI\n",
        "\n",
        "Relativos à 1º parte do programa: Filtros de Texto baseados em ER\n",
        "**texto em negrito**"
      ]
    },
    {
      "attachments": {},
      "cell_type": "markdown",
      "metadata": {
        "id": "SN6uHpnNH5w4"
      },
      "source": [
        "# TPC3: Processador de Pessoas listadas nos Róis de Confessados\n",
        "\n",
        "(publicado em **2023.02.28**)\n",
        "\n",
        "Construa agora um ou vários programas Python\n",
        "para  processar o texto 'processos.txt' (procurar o ficheiro no Bb) com o intuito de\n",
        "calcular frequências de alguns elementos (a ideia é utilizar arrays associativos, dicionários em Python,\n",
        "para o efeito) conforme solicitado a seguir:\n",
        "\n",
        "> a) Calcula a frequência de processos por ano (primeiro elemento da data);\n",
        "\n",
        "> b) Calcula a frequência de nomes próprios (o primeiro em cada nome) e apelidos (o ultimo em cada nome) por séculos e apresenta os 5 mais usados;\n",
        "\n",
        "> c) Calcula a frequência dos vários tipos de relação: irmão, sobrinho, etc.;\n",
        "\n",
        "> d) Converta os 20 primeiros registos num novo ficheiro de output mas em formato **Json**.\n",
        "\n",
        "\n"
      ]
    }
  ],
  "metadata": {
    "colab": {
      "provenance": []
    },
    "kernelspec": {
      "display_name": "Python 3",
      "name": "python3"
    },
    "language_info": {
      "name": "python"
    }
  },
  "nbformat": 4,
  "nbformat_minor": 0
}
