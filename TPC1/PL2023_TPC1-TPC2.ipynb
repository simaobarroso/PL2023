{
  "nbformat": 4,
  "nbformat_minor": 0,
  "metadata": {
    "colab": {
      "provenance": []
    },
    "kernelspec": {
      "name": "python3",
      "display_name": "Python 3"
    },
    "language_info": {
      "name": "python"
    }
  },
  "cells": [
    {
      "cell_type": "markdown",
      "source": [
        "# TPC1: Análise de dados: doença cardíaca\n",
        "\n",
        "Descarregue o ficheiro de dados: `myheart.csv`\n",
        "Crie um programa em Python, conjunto de funções, que responda às seguintes questões:\n",
        "* Crie uma função que lê a informação do ficheiro para um modelo, previamente pensado em memória;\n",
        "* Pense num modelo para guardar uma distribuição;\n",
        "* Crie uma função que calcula a distribuição da doença por sexo;\n",
        "* Crie uma função que calcula a distribuição da doença por escalões etários. Considere os seguintes escalões: [30-34], [35-39], [40-44], ...\n",
        "* Crie uma função que calcula a distribuição da doença por níveis de colesterol. Considere um nível igual a um intervalo de 10 unidades, comece no limite inferior e crie os níveis necessários até abranger o limite superior;\n",
        "* Crie uma função que imprime na forma de uma tabela uma distribuição;\n",
        "* Especifique um programa que ao executar apresenta as tabelas correspondentes às distribuições pedidas;\n",
        "* Extra: explore o módulo matplotlib e crie gráficos para as suas distribuições."
      ],
      "metadata": {
        "id": "0JpXqXdRLYK6"
      }
    },
    {
      "cell_type": "markdown",
      "source": [
        "# TPC2: Somador on/off\n",
        "\n",
        "Crie um programa em Python que tenha o seguinte comportamento:\n",
        "\n",
        "  * Pretende-se um programa que some todas as sequências de dígitos que encontre num texto;\n",
        "  * Prepare o programa para ler o texto do canal de entrada: stdin;\n",
        "  * Sempre que encontrar a string “Off” em qualquer combinação de maiúsculas e minúsculas, esse comportamento é desligado;\n",
        "  * Sempre que encontrar a string “On” em qualquer combinação de maiúsculas e minúsculas, esse comportamento é novamente ligado;\n",
        "  * Sempre que encontrar o caráter “=”, o resultado da soma é colocado na saída.\n"
      ],
      "metadata": {
        "id": "6nFoODdAH7Ha"
      }
    }
  ]
}